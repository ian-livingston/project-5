{
 "metadata": {
  "language_info": {
   "codemirror_mode": {
    "name": "ipython",
    "version": 3
   },
   "file_extension": ".py",
   "mimetype": "text/x-python",
   "name": "python",
   "nbconvert_exporter": "python",
   "pygments_lexer": "ipython3",
   "version": 3
  },
  "orig_nbformat": 2
 },
 "nbformat": 4,
 "nbformat_minor": 2,
 "cells": [
  {
   "source": [
    "# Setup\n",
    "Below, I've pieced together the core pieces of the code I built the first iteration of my model and app on."
   ],
   "cell_type": "markdown",
   "metadata": {}
  },
  {
   "source": [
    "# Imports"
   ],
   "cell_type": "markdown",
   "metadata": {}
  },
  {
   "cell_type": "code",
   "execution_count": null,
   "metadata": {},
   "outputs": [],
   "source": [
    "from sklearn.feature_extraction.text import CountVectorizer, TfidfVectorizer\n",
    "import pandas as pd\n",
    "import pickle\n",
    "from tqdm import tqdm\n",
    "from nltk import word_tokenize, FreqDist\n",
    "import re\n",
    "import unidecode\n",
    "from sklearn.metrics.pairwise import cosine_similarity"
   ]
  },
  {
   "cell_type": "code",
   "execution_count": null,
   "metadata": {},
   "outputs": [],
   "source": []
  },
  {
   "cell_type": "code",
   "execution_count": null,
   "metadata": {},
   "outputs": [],
   "source": [
    "# Unpickling initial_df\n",
    "with open(\"initial_df.pickle\", \"wb\") as to_write:\n",
    "    pickle.dump(initial_df, to_write)"
   ]
  },
  {
   "cell_type": "code",
   "execution_count": null,
   "metadata": {},
   "outputs": [],
   "source": [
    "# Trimming corpus down to 1-grams only\n",
    "initial_df[\"CORPUS\"] = initial_df[\"CLEAN LIST\"].apply(lambda x: condense_list(x))"
   ]
  },
  {
   "source": [
    "# Vectorizing\n"
   ],
   "cell_type": "markdown",
   "metadata": {}
  },
  {
   "cell_type": "code",
   "execution_count": null,
   "metadata": {},
   "outputs": [],
   "source": [
    "documents = list(initial_df[\"CORPUS\"])\n",
    "vectorizer = TfidfVectorizer(stop_words='english')\n",
    "sparse_matrix = vectorizer.fit_transform(documents)\n",
    "\n",
    "doc_term_matrix = sparse_matrix.todense()\n",
    "counts_df = pd.DataFrame(doc_term_matrix, \n",
    "                  columns=vectorizer.get_feature_names(), \n",
    "                  index=list(initial_df[\"Food\"]))"
   ]
  },
  {
   "cell_type": "code",
   "execution_count": null,
   "metadata": {},
   "outputs": [],
   "source": [
    "# building cosine sim arrays into a df\n",
    "cosine_sims_df = pd.DataFrame(cosine_similarity(sparse_matrix, sparse_matrix), index=list(counts_df.index), columns=list(counts_df.index))\n",
    "cosine_sims_df.head()"
   ]
  },
  {
   "source": [
    "# Pickling"
   ],
   "cell_type": "markdown",
   "metadata": {}
  },
  {
   "cell_type": "code",
   "execution_count": null,
   "metadata": {},
   "outputs": [],
   "source": [
    "with open(\"cosine_sims.pickle\", \"wb\") as to_write:\n",
    "    pickle.dump(cosine_sims_df, to_write)"
   ]
  }
 ]
}